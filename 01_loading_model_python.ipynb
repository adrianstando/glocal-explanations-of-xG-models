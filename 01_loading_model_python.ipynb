{
 "cells": [
  {
   "cell_type": "markdown",
   "id": "ba1efa3f-2482-4843-bffe-2a6b430c3de8",
   "metadata": {},
   "source": [
    "# Loading model"
   ]
  },
  {
   "cell_type": "markdown",
   "id": "279f39be-0117-4d4e-8857-43f409620911",
   "metadata": {},
   "source": [
    "**ATTENTION:**\n",
    "\n",
    "Notebook language: **Python**"
   ]
  },
  {
   "cell_type": "markdown",
   "id": "9bd02071-8494-49bf-85a2-6e5fedc6aa01",
   "metadata": {},
   "source": [
    "## Loading exctracted model data"
   ]
  },
  {
   "cell_type": "code",
   "execution_count": 1,
   "id": "54ba67b9-0689-4a6a-a897-15748619a224",
   "metadata": {},
   "outputs": [],
   "source": [
    "import pickle5 as pickle"
   ]
  },
  {
   "cell_type": "code",
   "execution_count": 2,
   "id": "26e49edf-ad37-4e44-9a13-ab11bc8850bc",
   "metadata": {},
   "outputs": [],
   "source": [
    "with open('./model/model-imported.pickle', 'rb') as fp:\n",
    "    model = pickle.load(fp) "
   ]
  },
  {
   "cell_type": "code",
   "execution_count": 3,
   "id": "e197078d-d996-45e9-842f-fa670324d7ed",
   "metadata": {},
   "outputs": [
    {
     "data": {
      "text/plain": [
       "dict_keys(['num.trees', 'child.nodeIDs', 'split.varIDs', 'split.values', 'is.ordered', 'class.values', 'terminal.class.counts', 'independent.variable.names', 'treetype'])"
      ]
     },
     "execution_count": 3,
     "metadata": {},
     "output_type": "execute_result"
    }
   ],
   "source": [
    "model.keys()"
   ]
  },
  {
   "cell_type": "markdown",
   "id": "6e51ac45-c7b3-4a18-ae62-a2c5a1193b6a",
   "metadata": {},
   "source": [
    "## Converting attributes"
   ]
  },
  {
   "cell_type": "code",
   "execution_count": 4,
   "id": "40974441-a273-442c-9a3e-e380102836c0",
   "metadata": {},
   "outputs": [],
   "source": [
    "model['num_trees'] = model.pop('num.trees')\n",
    "model['child_node_ids'] = model.pop('child.nodeIDs')\n",
    "model['split_var_ids'] = model.pop('split.varIDs')\n",
    "model['split_values'] = model.pop('split.values')\n",
    "model['is_ordered'] = model.pop('is.ordered')\n",
    "model['class_values'] = model.pop('class.values')\n",
    "model['terminal_class_counts'] = model.pop('terminal.class.counts')"
   ]
  },
  {
   "cell_type": "code",
   "execution_count": 5,
   "id": "4bc1998d-ae92-47ea-8d3e-08ab9cd44708",
   "metadata": {},
   "outputs": [],
   "source": [
    "model['num_trees'] = int(model['num_trees'])"
   ]
  },
  {
   "cell_type": "code",
   "execution_count": 6,
   "id": "00fccbf3-c6ac-470a-8394-5d94af9a8601",
   "metadata": {},
   "outputs": [],
   "source": [
    "def everything_as_int(x):\n",
    "    if isinstance(x, int): return x\n",
    "    elif isinstance(x, list): return [everything_as_int(y) for y in x]\n",
    "    else: return int(x)"
   ]
  },
  {
   "cell_type": "code",
   "execution_count": 7,
   "id": "e1b1c926-e84a-48e6-822f-73bf1c47eea7",
   "metadata": {},
   "outputs": [],
   "source": [
    "model[\"child_node_ids\"] = everything_as_int(model[\"child_node_ids\"])"
   ]
  },
  {
   "cell_type": "markdown",
   "id": "c9cb5d2f-92ef-4604-9e06-19087abc3cab",
   "metadata": {},
   "source": [
    "## Loading data"
   ]
  },
  {
   "cell_type": "code",
   "execution_count": 8,
   "id": "2093fb45-1ac1-4d55-9e1d-5c9372cbae8c",
   "metadata": {},
   "outputs": [],
   "source": [
    "import numpy as np\n",
    "import pandas as pd"
   ]
  },
  {
   "cell_type": "code",
   "execution_count": 9,
   "id": "64ae8e7d-ea7c-4bd6-a977-d3dabda83f02",
   "metadata": {},
   "outputs": [
    {
     "data": {
      "text/html": [
       "<div>\n",
       "<style scoped>\n",
       "    .dataframe tbody tr th:only-of-type {\n",
       "        vertical-align: middle;\n",
       "    }\n",
       "\n",
       "    .dataframe tbody tr th {\n",
       "        vertical-align: top;\n",
       "    }\n",
       "\n",
       "    .dataframe thead th {\n",
       "        text-align: right;\n",
       "    }\n",
       "</style>\n",
       "<table border=\"1\" class=\"dataframe\">\n",
       "  <thead>\n",
       "    <tr style=\"text-align: right;\">\n",
       "      <th></th>\n",
       "      <th>status</th>\n",
       "      <th>minute</th>\n",
       "      <th>h_a</th>\n",
       "      <th>situation</th>\n",
       "      <th>shotType</th>\n",
       "      <th>lastAction</th>\n",
       "      <th>distanceToGoal</th>\n",
       "      <th>angleToGoal</th>\n",
       "    </tr>\n",
       "  </thead>\n",
       "  <tbody>\n",
       "    <tr>\n",
       "      <th>1</th>\n",
       "      <td>0</td>\n",
       "      <td>7</td>\n",
       "      <td>2</td>\n",
       "      <td>3</td>\n",
       "      <td>2</td>\n",
       "      <td>2</td>\n",
       "      <td>12.554569</td>\n",
       "      <td>10.860495</td>\n",
       "    </tr>\n",
       "    <tr>\n",
       "      <th>2</th>\n",
       "      <td>1</td>\n",
       "      <td>13</td>\n",
       "      <td>2</td>\n",
       "      <td>3</td>\n",
       "      <td>4</td>\n",
       "      <td>39</td>\n",
       "      <td>8.497323</td>\n",
       "      <td>44.427378</td>\n",
       "    </tr>\n",
       "    <tr>\n",
       "      <th>3</th>\n",
       "      <td>0</td>\n",
       "      <td>24</td>\n",
       "      <td>2</td>\n",
       "      <td>3</td>\n",
       "      <td>2</td>\n",
       "      <td>24</td>\n",
       "      <td>23.388803</td>\n",
       "      <td>17.205847</td>\n",
       "    </tr>\n",
       "    <tr>\n",
       "      <th>4</th>\n",
       "      <td>0</td>\n",
       "      <td>24</td>\n",
       "      <td>2</td>\n",
       "      <td>3</td>\n",
       "      <td>4</td>\n",
       "      <td>29</td>\n",
       "      <td>25.298204</td>\n",
       "      <td>16.339054</td>\n",
       "    </tr>\n",
       "    <tr>\n",
       "      <th>5</th>\n",
       "      <td>0</td>\n",
       "      <td>30</td>\n",
       "      <td>2</td>\n",
       "      <td>2</td>\n",
       "      <td>1</td>\n",
       "      <td>1</td>\n",
       "      <td>7.967234</td>\n",
       "      <td>44.485873</td>\n",
       "    </tr>\n",
       "  </tbody>\n",
       "</table>\n",
       "</div>"
      ],
      "text/plain": [
       "   status  minute  h_a  situation  shotType  lastAction  distanceToGoal  \\\n",
       "1       0       7    2          3         2           2       12.554569   \n",
       "2       1      13    2          3         4          39        8.497323   \n",
       "3       0      24    2          3         2          24       23.388803   \n",
       "4       0      24    2          3         4          29       25.298204   \n",
       "5       0      30    2          2         1           1        7.967234   \n",
       "\n",
       "   angleToGoal  \n",
       "1    10.860495  \n",
       "2    44.427378  \n",
       "3    17.205847  \n",
       "4    16.339054  \n",
       "5    44.485873  "
      ]
     },
     "execution_count": 9,
     "metadata": {},
     "output_type": "execute_result"
    }
   ],
   "source": [
    "df = pd.read_csv('./data/data_preprocessed.csv', index_col=0)\n",
    "df.head()"
   ]
  },
  {
   "cell_type": "code",
   "execution_count": 10,
   "id": "3955e12f-3df6-4cca-943d-a6d7ce7eb5ea",
   "metadata": {},
   "outputs": [],
   "source": [
    "X = df.drop('status', axis = 1)\n",
    "y = df['status']"
   ]
  },
  {
   "cell_type": "markdown",
   "id": "10e4f12e-d726-498b-a0e9-173bc363a774",
   "metadata": {},
   "source": [
    "## Loading `skranger` - `Python` interface to `ranger`"
   ]
  },
  {
   "cell_type": "code",
   "execution_count": 11,
   "id": "a9e182ca-4c9d-4301-bff7-c637318c5b7d",
   "metadata": {},
   "outputs": [],
   "source": [
    "from scripts.RandomForestModified import RangerForestClassifierModified"
   ]
  },
  {
   "cell_type": "code",
   "execution_count": 12,
   "id": "69227d32-4bd2-4a1b-a065-656b9ef7a084",
   "metadata": {},
   "outputs": [],
   "source": [
    "rf = RangerForestClassifierModified(n_estimators = model['num_trees'], enable_tree_details = False)"
   ]
  },
  {
   "cell_type": "markdown",
   "id": "569ba44d-e88d-44ce-89f0-ce4b361ea3b7",
   "metadata": {},
   "source": [
    "`Fit` just adds parameters from already trained model; model is not trained here"
   ]
  },
  {
   "cell_type": "code",
   "execution_count": 13,
   "id": "a8903e0f-122c-4254-a27d-41f8c91309a0",
   "metadata": {},
   "outputs": [
    {
     "data": {
      "text/html": [
       "<style>#sk-container-id-1 {color: black;background-color: white;}#sk-container-id-1 pre{padding: 0;}#sk-container-id-1 div.sk-toggleable {background-color: white;}#sk-container-id-1 label.sk-toggleable__label {cursor: pointer;display: block;width: 100%;margin-bottom: 0;padding: 0.3em;box-sizing: border-box;text-align: center;}#sk-container-id-1 label.sk-toggleable__label-arrow:before {content: \"▸\";float: left;margin-right: 0.25em;color: #696969;}#sk-container-id-1 label.sk-toggleable__label-arrow:hover:before {color: black;}#sk-container-id-1 div.sk-estimator:hover label.sk-toggleable__label-arrow:before {color: black;}#sk-container-id-1 div.sk-toggleable__content {max-height: 0;max-width: 0;overflow: hidden;text-align: left;background-color: #f0f8ff;}#sk-container-id-1 div.sk-toggleable__content pre {margin: 0.2em;color: black;border-radius: 0.25em;background-color: #f0f8ff;}#sk-container-id-1 input.sk-toggleable__control:checked~div.sk-toggleable__content {max-height: 200px;max-width: 100%;overflow: auto;}#sk-container-id-1 input.sk-toggleable__control:checked~label.sk-toggleable__label-arrow:before {content: \"▾\";}#sk-container-id-1 div.sk-estimator input.sk-toggleable__control:checked~label.sk-toggleable__label {background-color: #d4ebff;}#sk-container-id-1 div.sk-label input.sk-toggleable__control:checked~label.sk-toggleable__label {background-color: #d4ebff;}#sk-container-id-1 input.sk-hidden--visually {border: 0;clip: rect(1px 1px 1px 1px);clip: rect(1px, 1px, 1px, 1px);height: 1px;margin: -1px;overflow: hidden;padding: 0;position: absolute;width: 1px;}#sk-container-id-1 div.sk-estimator {font-family: monospace;background-color: #f0f8ff;border: 1px dotted black;border-radius: 0.25em;box-sizing: border-box;margin-bottom: 0.5em;}#sk-container-id-1 div.sk-estimator:hover {background-color: #d4ebff;}#sk-container-id-1 div.sk-parallel-item::after {content: \"\";width: 100%;border-bottom: 1px solid gray;flex-grow: 1;}#sk-container-id-1 div.sk-label:hover label.sk-toggleable__label {background-color: #d4ebff;}#sk-container-id-1 div.sk-serial::before {content: \"\";position: absolute;border-left: 1px solid gray;box-sizing: border-box;top: 0;bottom: 0;left: 50%;z-index: 0;}#sk-container-id-1 div.sk-serial {display: flex;flex-direction: column;align-items: center;background-color: white;padding-right: 0.2em;padding-left: 0.2em;position: relative;}#sk-container-id-1 div.sk-item {position: relative;z-index: 1;}#sk-container-id-1 div.sk-parallel {display: flex;align-items: stretch;justify-content: center;background-color: white;position: relative;}#sk-container-id-1 div.sk-item::before, #sk-container-id-1 div.sk-parallel-item::before {content: \"\";position: absolute;border-left: 1px solid gray;box-sizing: border-box;top: 0;bottom: 0;left: 50%;z-index: -1;}#sk-container-id-1 div.sk-parallel-item {display: flex;flex-direction: column;z-index: 1;position: relative;background-color: white;}#sk-container-id-1 div.sk-parallel-item:first-child::after {align-self: flex-end;width: 50%;}#sk-container-id-1 div.sk-parallel-item:last-child::after {align-self: flex-start;width: 50%;}#sk-container-id-1 div.sk-parallel-item:only-child::after {width: 0;}#sk-container-id-1 div.sk-dashed-wrapped {border: 1px dashed gray;margin: 0 0.4em 0.5em 0.4em;box-sizing: border-box;padding-bottom: 0.4em;background-color: white;}#sk-container-id-1 div.sk-label label {font-family: monospace;font-weight: bold;display: inline-block;line-height: 1.2em;}#sk-container-id-1 div.sk-label-container {text-align: center;}#sk-container-id-1 div.sk-container {/* jupyter's `normalize.less` sets `[hidden] { display: none; }` but bootstrap.min.css set `[hidden] { display: none !important; }` so we also need the `!important` here to be able to override the default hidden behavior on the sphinx rendered scikit-learn.org. See: https://github.com/scikit-learn/scikit-learn/issues/21755 */display: inline-block !important;position: relative;}#sk-container-id-1 div.sk-text-repr-fallback {display: none;}</style><div id=\"sk-container-id-1\" class=\"sk-top-container\"><div class=\"sk-text-repr-fallback\"><pre>RangerForestClassifierModified(n_estimators=500)</pre><b>In a Jupyter environment, please rerun this cell to show the HTML representation or trust the notebook. <br />On GitHub, the HTML representation is unable to render, please try loading this page with nbviewer.org.</b></div><div class=\"sk-container\" hidden><div class=\"sk-item\"><div class=\"sk-estimator sk-toggleable\"><input class=\"sk-toggleable__control sk-hidden--visually\" id=\"sk-estimator-id-1\" type=\"checkbox\" checked><label for=\"sk-estimator-id-1\" class=\"sk-toggleable__label sk-toggleable__label-arrow\">RangerForestClassifierModified</label><div class=\"sk-toggleable__content\"><pre>RangerForestClassifierModified(n_estimators=500)</pre></div></div></div></div></div>"
      ],
      "text/plain": [
       "RangerForestClassifierModified(n_estimators=500)"
      ]
     },
     "execution_count": 13,
     "metadata": {},
     "output_type": "execute_result"
    }
   ],
   "source": [
    "rf.fit(X, y, {'forest': model, 'num_trees': model['num_trees']})"
   ]
  },
  {
   "cell_type": "markdown",
   "id": "5ae554de-065f-43d5-9688-967ed9a9eee3",
   "metadata": {},
   "source": [
    "## Checking results"
   ]
  },
  {
   "cell_type": "code",
   "execution_count": 14,
   "id": "77423919-1523-4280-9d8e-f70005ab749a",
   "metadata": {},
   "outputs": [
    {
     "data": {
      "text/html": [
       "<div>\n",
       "<style scoped>\n",
       "    .dataframe tbody tr th:only-of-type {\n",
       "        vertical-align: middle;\n",
       "    }\n",
       "\n",
       "    .dataframe tbody tr th {\n",
       "        vertical-align: top;\n",
       "    }\n",
       "\n",
       "    .dataframe thead th {\n",
       "        text-align: right;\n",
       "    }\n",
       "</style>\n",
       "<table border=\"1\" class=\"dataframe\">\n",
       "  <thead>\n",
       "    <tr style=\"text-align: right;\">\n",
       "      <th></th>\n",
       "      <th>minute</th>\n",
       "      <th>h_a</th>\n",
       "      <th>situation</th>\n",
       "      <th>shotType</th>\n",
       "      <th>lastAction</th>\n",
       "      <th>distanceToGoal</th>\n",
       "      <th>angleToGoal</th>\n",
       "    </tr>\n",
       "  </thead>\n",
       "  <tbody>\n",
       "    <tr>\n",
       "      <th>1</th>\n",
       "      <td>7</td>\n",
       "      <td>2</td>\n",
       "      <td>3</td>\n",
       "      <td>2</td>\n",
       "      <td>2</td>\n",
       "      <td>12.554569</td>\n",
       "      <td>10.860495</td>\n",
       "    </tr>\n",
       "    <tr>\n",
       "      <th>2</th>\n",
       "      <td>13</td>\n",
       "      <td>2</td>\n",
       "      <td>3</td>\n",
       "      <td>4</td>\n",
       "      <td>39</td>\n",
       "      <td>8.497323</td>\n",
       "      <td>44.427378</td>\n",
       "    </tr>\n",
       "    <tr>\n",
       "      <th>3</th>\n",
       "      <td>24</td>\n",
       "      <td>2</td>\n",
       "      <td>3</td>\n",
       "      <td>2</td>\n",
       "      <td>24</td>\n",
       "      <td>23.388803</td>\n",
       "      <td>17.205847</td>\n",
       "    </tr>\n",
       "    <tr>\n",
       "      <th>4</th>\n",
       "      <td>24</td>\n",
       "      <td>2</td>\n",
       "      <td>3</td>\n",
       "      <td>4</td>\n",
       "      <td>29</td>\n",
       "      <td>25.298204</td>\n",
       "      <td>16.339054</td>\n",
       "    </tr>\n",
       "    <tr>\n",
       "      <th>5</th>\n",
       "      <td>30</td>\n",
       "      <td>2</td>\n",
       "      <td>2</td>\n",
       "      <td>1</td>\n",
       "      <td>1</td>\n",
       "      <td>7.967234</td>\n",
       "      <td>44.485873</td>\n",
       "    </tr>\n",
       "    <tr>\n",
       "      <th>6</th>\n",
       "      <td>42</td>\n",
       "      <td>2</td>\n",
       "      <td>3</td>\n",
       "      <td>4</td>\n",
       "      <td>27</td>\n",
       "      <td>26.241467</td>\n",
       "      <td>15.824642</td>\n",
       "    </tr>\n",
       "    <tr>\n",
       "      <th>7</th>\n",
       "      <td>47</td>\n",
       "      <td>2</td>\n",
       "      <td>1</td>\n",
       "      <td>4</td>\n",
       "      <td>33</td>\n",
       "      <td>20.834178</td>\n",
       "      <td>19.888362</td>\n",
       "    </tr>\n",
       "    <tr>\n",
       "      <th>8</th>\n",
       "      <td>55</td>\n",
       "      <td>2</td>\n",
       "      <td>2</td>\n",
       "      <td>1</td>\n",
       "      <td>11</td>\n",
       "      <td>10.767052</td>\n",
       "      <td>10.198737</td>\n",
       "    </tr>\n",
       "    <tr>\n",
       "      <th>9</th>\n",
       "      <td>66</td>\n",
       "      <td>2</td>\n",
       "      <td>1</td>\n",
       "      <td>4</td>\n",
       "      <td>33</td>\n",
       "      <td>29.060308</td>\n",
       "      <td>13.068224</td>\n",
       "    </tr>\n",
       "    <tr>\n",
       "      <th>10</th>\n",
       "      <td>88</td>\n",
       "      <td>2</td>\n",
       "      <td>2</td>\n",
       "      <td>4</td>\n",
       "      <td>24</td>\n",
       "      <td>10.237765</td>\n",
       "      <td>35.869253</td>\n",
       "    </tr>\n",
       "    <tr>\n",
       "      <th>11</th>\n",
       "      <td>88</td>\n",
       "      <td>2</td>\n",
       "      <td>2</td>\n",
       "      <td>4</td>\n",
       "      <td>27</td>\n",
       "      <td>10.926481</td>\n",
       "      <td>33.420145</td>\n",
       "    </tr>\n",
       "  </tbody>\n",
       "</table>\n",
       "</div>"
      ],
      "text/plain": [
       "    minute  h_a  situation  shotType  lastAction  distanceToGoal  angleToGoal\n",
       "1        7    2          3         2           2       12.554569    10.860495\n",
       "2       13    2          3         4          39        8.497323    44.427378\n",
       "3       24    2          3         2          24       23.388803    17.205847\n",
       "4       24    2          3         4          29       25.298204    16.339054\n",
       "5       30    2          2         1           1        7.967234    44.485873\n",
       "6       42    2          3         4          27       26.241467    15.824642\n",
       "7       47    2          1         4          33       20.834178    19.888362\n",
       "8       55    2          2         1          11       10.767052    10.198737\n",
       "9       66    2          1         4          33       29.060308    13.068224\n",
       "10      88    2          2         4          24       10.237765    35.869253\n",
       "11      88    2          2         4          27       10.926481    33.420145"
      ]
     },
     "execution_count": 14,
     "metadata": {},
     "output_type": "execute_result"
    }
   ],
   "source": [
    "X.loc[1:11]"
   ]
  },
  {
   "cell_type": "code",
   "execution_count": 15,
   "id": "e701f9ee-70f4-4af6-9653-0ddcad7e1e7d",
   "metadata": {},
   "outputs": [
    {
     "data": {
      "text/plain": [
       "array([0, 1, 0, 0, 0, 0, 0, 0, 0, 0, 0])"
      ]
     },
     "execution_count": 15,
     "metadata": {},
     "output_type": "execute_result"
    }
   ],
   "source": [
    "rf.predict(X.loc[1:11])"
   ]
  },
  {
   "cell_type": "code",
   "execution_count": 16,
   "id": "3364eba0-88b9-4d2f-9ced-acb693468ca1",
   "metadata": {},
   "outputs": [
    {
     "data": {
      "text/plain": [
       "array([[0.83205017, 0.16794983],\n",
       "       [0.08896921, 0.91103079],\n",
       "       [0.91217144, 0.08782856],\n",
       "       [0.92099141, 0.07900859],\n",
       "       [0.63573259, 0.36426741],\n",
       "       [0.7195911 , 0.2804089 ],\n",
       "       [0.69306182, 0.30693818],\n",
       "       [0.83613391, 0.16386609],\n",
       "       [0.76523042, 0.23476958],\n",
       "       [0.7634721 , 0.2365279 ],\n",
       "       [0.72639206, 0.27360794]])"
      ]
     },
     "execution_count": 16,
     "metadata": {},
     "output_type": "execute_result"
    }
   ],
   "source": [
    "rf.predict_proba(X.loc[1:11])"
   ]
  },
  {
   "cell_type": "code",
   "execution_count": 21,
   "id": "b218699f-9268-401e-8ae6-01cfdfac2f82",
   "metadata": {},
   "outputs": [
    {
     "data": {
      "text/plain": [
       "array([0, 1, 0, 0, 0, 0, 0, 0, 0, 0, 0])"
      ]
     },
     "execution_count": 21,
     "metadata": {},
     "output_type": "execute_result"
    }
   ],
   "source": [
    "np.array(y.loc[1:11])"
   ]
  },
  {
   "cell_type": "markdown",
   "id": "7dd2f57d-02d9-4498-96de-16a920022f06",
   "metadata": {},
   "source": [
    "## Save model"
   ]
  },
  {
   "cell_type": "code",
   "execution_count": 17,
   "id": "d9a782a6-2d98-4c8d-ae93-339652814407",
   "metadata": {},
   "outputs": [],
   "source": [
    "with open('./model/model.pickle', 'wb') as fp:\n",
    "    pickle.dump(rf, fp) "
   ]
  },
  {
   "cell_type": "markdown",
   "id": "c4d20431-c146-4da4-9399-895577b9c237",
   "metadata": {},
   "source": [
    "## Calculate metrics on the whole dataset"
   ]
  },
  {
   "cell_type": "code",
   "execution_count": 18,
   "id": "54813afc-1927-4958-abd9-c344b6241853",
   "metadata": {},
   "outputs": [],
   "source": [
    "from scripts.calculate_metrics import calculate_metrics"
   ]
  },
  {
   "cell_type": "code",
   "execution_count": 19,
   "id": "7531b456-6563-4833-b9bd-3fc3f34bc499",
   "metadata": {},
   "outputs": [
    {
     "data": {
      "text/html": [
       "<div>\n",
       "<style scoped>\n",
       "    .dataframe tbody tr th:only-of-type {\n",
       "        vertical-align: middle;\n",
       "    }\n",
       "\n",
       "    .dataframe tbody tr th {\n",
       "        vertical-align: top;\n",
       "    }\n",
       "\n",
       "    .dataframe thead th {\n",
       "        text-align: right;\n",
       "    }\n",
       "</style>\n",
       "<table border=\"1\" class=\"dataframe\">\n",
       "  <thead>\n",
       "    <tr style=\"text-align: right;\">\n",
       "      <th></th>\n",
       "      <th>accuracy</th>\n",
       "      <th>balanced_accuracy</th>\n",
       "      <th>f1</th>\n",
       "      <th>precision</th>\n",
       "      <th>recall</th>\n",
       "      <th>roc_auc</th>\n",
       "    </tr>\n",
       "  </thead>\n",
       "  <tbody>\n",
       "    <tr>\n",
       "      <th>0</th>\n",
       "      <td>0.904929</td>\n",
       "      <td>0.917865</td>\n",
       "      <td>0.677727</td>\n",
       "      <td>0.531704</td>\n",
       "      <td>0.934322</td>\n",
       "      <td>0.97584</td>\n",
       "    </tr>\n",
       "  </tbody>\n",
       "</table>\n",
       "</div>"
      ],
      "text/plain": [
       "   accuracy  balanced_accuracy        f1  precision    recall  roc_auc\n",
       "0  0.904929           0.917865  0.677727   0.531704  0.934322  0.97584"
      ]
     },
     "execution_count": 19,
     "metadata": {},
     "output_type": "execute_result"
    }
   ],
   "source": [
    "calculate_metrics(rf, X, y)"
   ]
  },
  {
   "cell_type": "code",
   "execution_count": null,
   "id": "53f3409b-5eb3-4abb-81cf-9a14a115c315",
   "metadata": {},
   "outputs": [],
   "source": []
  }
 ],
 "metadata": {
  "kernelspec": {
   "display_name": "Python 3",
   "language": "python",
   "name": "python3"
  },
  "language_info": {
   "codemirror_mode": {
    "name": "ipython",
    "version": 3
   },
   "file_extension": ".py",
   "mimetype": "text/x-python",
   "name": "python",
   "nbconvert_exporter": "python",
   "pygments_lexer": "ipython3",
   "version": "3.8.13"
  }
 },
 "nbformat": 4,
 "nbformat_minor": 5
}
